{
  "nbformat": 4,
  "nbformat_minor": 0,
  "metadata": {
    "colab": {
      "name": "Pegasus Model.ipynb",
      "provenance": [],
      "mount_file_id": "1_H5iQSydo19sEk-jScbNClYKYQQlamBW",
      "authorship_tag": "ABX9TyPqZ1NSi5P4tstLyefKnIwu",
      "include_colab_link": true
    },
    "kernelspec": {
      "name": "python3",
      "display_name": "Python 3"
    },
    "language_info": {
      "name": "python"
    }
  },
  "cells": [
    {
      "cell_type": "markdown",
      "metadata": {
        "id": "view-in-github",
        "colab_type": "text"
      },
      "source": [
        "<a href=\"https://colab.research.google.com/github/azizamirsaidova/abstractive_text_summarization/blob/main/Pegasus_Model.ipynb\" target=\"_parent\"><img src=\"https://colab.research.google.com/assets/colab-badge.svg\" alt=\"Open In Colab\"/></a>"
      ]
    },
    {
      "cell_type": "markdown",
      "source": [
        "**Import dependencies.**"
      ],
      "metadata": {
        "id": "raZDnAwQsNJ-"
      }
    },
    {
      "cell_type": "code",
      "source": [
        "!pip install transformers\n",
        "!pip install sentencepiece\n"
      ],
      "metadata": {
        "id": "ljPovViFr_3m"
      },
      "execution_count": null,
      "outputs": []
    },
    {
      "cell_type": "code",
      "source": [
        "!git clone https://github.com/huggingface/transformers"
      ],
      "metadata": {
        "colab": {
          "base_uri": "https://localhost:8080/"
        },
        "id": "AfITZibEqu6w",
        "outputId": "cf941384-a737-4cda-a577-7eb76f1b2dbc"
      },
      "execution_count": 8,
      "outputs": [
        {
          "output_type": "stream",
          "name": "stdout",
          "text": [
            "Cloning into 'transformers'...\n",
            "remote: Enumerating objects: 104747, done.\u001b[K\n",
            "remote: Total 104747 (delta 0), reused 0 (delta 0), pack-reused 104747\u001b[K\n",
            "Receiving objects: 100% (104747/104747), 89.53 MiB | 23.92 MiB/s, done.\n",
            "Resolving deltas: 100% (76078/76078), done.\n"
          ]
        }
      ]
    },
    {
      "cell_type": "code",
      "source": [
        "import numpy as np \n",
        "import pandas as pd \n",
        "import nltk\n",
        "from transformers import PegasusForConditionalGeneration, PegasusTokenizer\n",
        "from transformers import AutoTokenizer\n",
        "import torch"
      ],
      "metadata": {
        "id": "FwXvksGlqWoQ"
      },
      "execution_count": 1,
      "outputs": []
    },
    {
      "cell_type": "code",
      "execution_count": 1,
      "metadata": {
        "colab": {
          "base_uri": "https://localhost:8080/"
        },
        "id": "QqWt-jwlhQOa",
        "outputId": "613373d7-255c-4ebd-84fb-16ae24e7814e"
      },
      "outputs": [
        {
          "output_type": "stream",
          "name": "stdout",
          "text": [
            "Mounted at /content/gdrive\n"
          ]
        }
      ],
      "source": [
        "from google.colab import drive\n",
        "drive.mount('/content/gdrive')"
      ]
    },
    {
      "cell_type": "markdown",
      "source": [
        "**Access the Dataset.**"
      ],
      "metadata": {
        "id": "YUONzCHTsRy2"
      }
    },
    {
      "cell_type": "code",
      "source": [
        "path = '/content/drive/MyDrive/train.csv'"
      ],
      "metadata": {
        "id": "Kn8hFLUKpXn6"
      },
      "execution_count": 2,
      "outputs": []
    },
    {
      "cell_type": "code",
      "source": [
        "trainning_df = pd.read_csv(path, engine='python', error_bad_lines=False)"
      ],
      "metadata": {
        "colab": {
          "base_uri": "https://localhost:8080/"
        },
        "id": "nW22vS-IqPEL",
        "outputId": "170c1490-792a-4622-adb4-b6ecda356347"
      },
      "execution_count": 3,
      "outputs": [
        {
          "output_type": "stream",
          "name": "stderr",
          "text": [
            "/usr/local/lib/python3.7/dist-packages/IPython/core/interactiveshell.py:2882: FutureWarning: The error_bad_lines argument has been deprecated and will be removed in a future version.\n",
            "\n",
            "\n",
            "  exec(code_obj, self.user_global_ns, self.user_ns)\n"
          ]
        }
      ]
    },
    {
      "cell_type": "code",
      "source": [
        "MAX_LEN = 512\n",
        "SUMMARY_LEN = 150\n",
        "TRAINNING_SIZE = 5000\n",
        "\n",
        "trainning_df = trainning_df.iloc[0:TRAINNING_SIZE,:].copy()\n",
        "\n",
        "trainning_article_ls = list(trainning_df['article'])\n",
        "trainning_highlight_ls = list(trainning_df['highlights'])\n",
        "\n",
        "del trainning_df"
      ],
      "metadata": {
        "id": "ftEJRN7zrBHD"
      },
      "execution_count": 4,
      "outputs": []
    },
    {
      "cell_type": "code",
      "source": [
        "df = pd.DataFrame(columns=['target_text','source_text'])\n",
        "df['target_text'] = trainning_highlight_ls\n",
        "df['source_text'] = ['summarize: '+item for item in trainning_article_ls]"
      ],
      "metadata": {
        "id": "vt5lJBZsrEfx"
      },
      "execution_count": 5,
      "outputs": []
    },
    {
      "cell_type": "markdown",
      "source": [
        "**Run Pre-trained PEGASUS on CNN/DailyMail dataset.**"
      ],
      "metadata": {
        "id": "3NOBMDXMsVYK"
      }
    },
    {
      "cell_type": "code",
      "source": [
        "model_name = \"google/pegasus-xsum\"\n",
        "device = \"cuda\" if torch.cuda.is_available() else \"cpu\"\n",
        "#tokenizer = PegasusTokenizer.from_pretrained(model_name)\n",
        "tokenizer = AutoTokenizer.from_pretrained(model_name)\n",
        "model = PegasusForConditionalGeneration.from_pretrained(model_name).to(device)\n",
        "batch = tokenizer(df['source_text'], truncation=True, padding=\"longest\", return_tensors=\"pt\").to(device)\n",
        "translated = model.generate(**batch)\n",
        "tgt_text = tokenizer.batch_decode(translated, skip_special_tokens=True)\n",
        "assert (tgt_text == df['target_text'])"
      ],
      "metadata": {
        "id": "2JxoJsVJqowo"
      },
      "execution_count": null,
      "outputs": []
    }
  ]
}